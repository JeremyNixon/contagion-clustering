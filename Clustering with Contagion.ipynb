{
 "cells": [
  {
   "cell_type": "code",
   "execution_count": 1,
   "metadata": {
    "collapsed": false
   },
   "outputs": [
    {
     "name": "stderr",
     "output_type": "stream",
     "text": [
      "/Users/jeremynixon/anaconda/lib/python2.7/site-packages/sklearn/cross_validation.py:44: DeprecationWarning: This module was deprecated in version 0.18 in favor of the model_selection module into which all the refactored classes and functions are moved. Also note that the interface of the new CV iterators are different from that of this module. This module will be removed in 0.20.\n",
      "  \"This module will be removed in 0.20.\", DeprecationWarning)\n"
     ]
    }
   ],
   "source": [
    "import pandas as pd\n",
    "import numpy as np\n",
    "import sklearn.cross_validation\n",
    "from collections import Counter\n",
    "import itertools\n",
    "import matplotlib.pyplot as plt"
   ]
  },
  {
   "cell_type": "code",
   "execution_count": 2,
   "metadata": {
    "collapsed": true
   },
   "outputs": [],
   "source": [
    "from sklearn import preprocessing\n",
    "data = pd.read_csv('/Users/jeremynixon/Dropbox/python_new/Oracle Development/iris.data', header=None)\n",
    "# iris = data[:100]\n",
    "iris=data\n",
    "y = np.array(iris[4])\n",
    "new_y = []\n",
    "for i in y:\n",
    "    if i == 'Iris-setosa':\n",
    "        new_y.append(1)\n",
    "    elif i == 'Iris-versicolor':\n",
    "        new_y.append(0)\n",
    "    elif i == 'Iris-virginica':\n",
    "        new_y.append(2)\n",
    "y = np.array(new_y)\n",
    "x = preprocessing.scale(np.array(iris.drop([4], 1)))\n",
    "# x = np.hstack((np.ones((x.shape[0],1)),x))\n",
    "# Sepal Length, Petal Length, Sepal Width, Petal Width\n",
    "x_train, x_test, y_train, y_test = sklearn.cross_validation.train_test_split(x, y, test_size = .20, random_state=42)"
   ]
  },
  {
   "cell_type": "code",
   "execution_count": 5,
   "metadata": {
    "collapsed": false
   },
   "outputs": [
    {
     "data": {
      "text/plain": [
       "(120, 4)"
      ]
     },
     "execution_count": 5,
     "metadata": {},
     "output_type": "execute_result"
    }
   ],
   "source": [
    "x_train.shape"
   ]
  },
  {
   "cell_type": "code",
   "execution_count": 10,
   "metadata": {
    "collapsed": false
   },
   "outputs": [
    {
     "data": {
      "text/plain": [
       "array([[-1.50652052,  1.26346019, -1.56873522, -1.31297673],\n",
       "       [-0.17367395,  3.11468391, -1.2844067 , -1.05003079],\n",
       "       [ 1.03800476,  0.10644536,  0.36469871,  0.26469891],\n",
       "       [-1.26418478,  0.80065426, -1.227541  , -1.31297673],\n",
       "       [-1.74885626,  0.33784833, -1.39813811, -1.31297673]])"
      ]
     },
     "execution_count": 10,
     "metadata": {},
     "output_type": "execute_result"
    }
   ],
   "source": [
    "x_train[:5]"
   ]
  },
  {
   "cell_type": "code",
   "execution_count": 12,
   "metadata": {
    "collapsed": true
   },
   "outputs": [],
   "source": []
  },
  {
   "cell_type": "code",
   "execution_count": 93,
   "metadata": {
    "collapsed": true
   },
   "outputs": [],
   "source": [
    "def Euclidean_distance(point1, point2):\n",
    "    return np.sum((point1 - point2) ** 2) ** .5"
   ]
  },
  {
   "cell_type": "code",
   "execution_count": 94,
   "metadata": {
    "collapsed": true
   },
   "outputs": [],
   "source": [
    "initial_centers = np.random.choice(len(x_train), 5)\n",
    "def contagion(x_train, num_centers, distance_func):\n",
    "    initial_centers = np.random.choice(len(x_train), 5)\n",
    "    centers = x_train[initial_centers]\n",
    "    clusters_to_data_points = {idx:[initial_centers[idx]] for idx in range(num_centers)}\n",
    "    data_points_to_clusters = {initial_centers[idx]:idx for idx in range(num_centers)}\n",
    "    distances = [(distance_func(x_train[initial_centers[0]], x_train[i]), 0) for i in range(len(x_train))] # 0 is arbitrary\n",
    "    for i in range(1, num_centers):\n",
    "        for j in range(len(x_train)):\n",
    "            new_distance = distance_func(x_train[clusters_to_data_points[i]], x_train[j])\n",
    "            if new_distance < distances[j][0]:\n",
    "                #print(\"THIS NEVER GETS HIT\")\n",
    "                #print(new_distance, i)\n",
    "                distances[j] = (new_distance, i)\n",
    "    print(distances)\n",
    "    checked_variables = set(x for x in initial_centers)\n",
    "    while len(checked_variables) < len(x_train):\n",
    "        smallest_distance = float(\"inf\")\n",
    "        for i in range(len(distances)):\n",
    "            if distances[i][0] < smallest_distance and i not in checked_variables:\n",
    "                smallest_distance = distances[i][0]\n",
    "                next_node_idx = i\n",
    "        checked_variables.add(next_node_idx)\n",
    "        added_cluster = distances[next_node_idx][1]\n",
    "        clusters_to_data_points[added_cluster].append(next_node_idx)\n",
    "        data_points_to_clusters[next_node_idx] = added_cluster\n",
    "        current_data_point = x_train[next_node_idx]\n",
    "        for j in range(len(distances)):\n",
    "            if j not in checked_variables:\n",
    "                new_distance = distance_func(x_train[j], current_data_point)\n",
    "                if new_distance < distances[j][0]:\n",
    "                    distances[j] = (new_distance, added_cluster)\n",
    "    print(distances)\n",
    "    return clusters_to_data_points"
   ]
  },
  {
   "cell_type": "code",
   "execution_count": 95,
   "metadata": {
    "collapsed": false
   },
   "outputs": [
    {
     "name": "stdout",
     "output_type": "stream",
     "text": [
      "[(0.92400813204828558, 2), (1.7111009011603782, 2), (1.2679345332351857, 3), (0.92314734437877588, 2), (1.5939987512586806, 2), (0.7645026867670609, 0), (1.1285394578640688, 3), (0.47840462154485341, 2), (0.43464458585463195, 2), (0.9427216508726538, 2), (0.0, 0), (1.2925675459206145, 3), (1.076951839476908, 3), (0.55762566517253098, 2), (0.12116787044365196, 2), (0.81596580721308043, 1), (0.83495564103704589, 0), (0.7175132851107906, 3), (1.3142364382304663, 1), (1.0850202363633257, 3), (0.62263228860789344, 1), (1.3903489637528468, 3), (0.9662444668596829, 0), (0.52549942786763937, 2), (1.7741207851912575, 3), (0.0, 1), (0.70699459090236261, 2), (0.61363195772772317, 2), (0.48286006628137784, 2), (0.0, 4), (0.6302866773958693, 0), (0.9490556589507726, 2), (1.6610803307077728, 2), (1.0411460211872818, 2), (0.4663974659161727, 1), (0.73529082801198764, 2), (0.7543089015436969, 1), (1.7741207851912575, 3), (1.4357290843513872, 2), (0.78587332573731339, 1), (0.49938945929142603, 0), (1.1834879071622348, 2), (0.76618608589298198, 0), (0.0, 0), (1.1834879071622346, 1), (1.053474348843457, 0), (0.72030035052243502, 3), (1.0418139445264012, 4), (0.55762566517253098, 2), (0.70346344866519417, 4), (0.73584939693075424, 0), (0.99605516920065162, 2), (1.2247128466951098, 2), (0.81268036912137631, 1), (0.95756982314506334, 3), (1.4764469339871071, 2), (0.69690449734148219, 0), (0.78362035827165788, 2), (0.79127756341242572, 2), (1.1831117766648083, 0), (1.1585137731642856, 1), (0.42592782365814524, 3), (0.46291779823510137, 0), (0.83585492827419605, 0), (1.43908692345461, 3), (0.71072089419117235, 1), (2.1492968275108018, 2), (2.0398551513764791, 2), (1.2950698421053162, 0), (0.77798348580886845, 3), (1.6269926091882678, 2), (0.5416962160980372, 2), (1.9560081782906695, 2), (0.93312794003613275, 0), (0.66877033607893199, 3), (1.1053713535041918, 2), (0.71382244041202425, 3), (0.73523607731719309, 3), (1.3711884049105025, 2), (0.85982554772271635, 1), (1.0631807455098139, 0), (0.5786555918462658, 0), (1.1644848591467041, 3), (0.55368051053699163, 3), (0.33986416679829179, 2), (0.54956283991074351, 3), (0.96538588020960647, 1), (0.79923741833018569, 3), (0.42970045793170059, 1), (0.90445376028561852, 1), (0.9856296681229082, 1), (1.8058388837426709, 4), (1.179077645423005, 1), (0.53284721048078254, 1), (0.0, 2), (0.83439731445516385, 1), (1.287352552027405, 3), (0.0, 3), (0.3575852048033567, 2), (0.940411506915521, 4), (0.52589188007749477, 3), (1.1332826503465336, 3), (1.4764469339871071, 2), (0.61072851086980839, 3), (1.6917326723980919, 2), (1.0498277846471469, 3), (1.4761314966452792, 3), (0.82423206615880185, 0), (0.47307003890670501, 1), (0.84211264776795902, 3), (1.1867890664603855, 1), (0.95458364780799332, 1), (0.37748366665299832, 0), (0.71686315648157017, 0), (0.71382244041202514, 2), (0.5869260537956893, 1), (1.2605384857168178, 0), (0.93705425977108281, 2), (0.35485434750748096, 1), (0.85426416807303784, 3)]\n",
      "[(0.53217835692221893, 2), (0.58761400261742991, 2), (0.26120678609055309, 1), (0.24891829904928894, 2), (0.24891829904928781, 2), (0.4844669020929433, 1), (0.44566471801492713, 1), (0.13384827648514155, 2), (0.37497101324343657, 2), (0.45409366639324555, 2), (0.0, 0), (0.57193961561520956, 1), (0.21537993513197681, 1), (0.22746281595700912, 2), (0.12116787044365196, 2), (0.14324402303729256, 1), (0.37358977310176689, 1), (0.26120678609055248, 1), (0.28942582344772622, 1), (0.9490556589507726, 1), (0.23828772641934284, 1), (0.49938945929142642, 1), (0.34767786818541224, 1), (0.26120678609055242, 2), (0.51559045350289234, 1), (0.0, 1), (0.23828772641934284, 2), (0.13384827648514036, 2), (0.31343889674799441, 2), (0.0, 4), (0.26732507063488919, 1), (0.17059711196775673, 2), (0.16618208684639416, 2), (0.44648774233009464, 2), (0.37748366665299909, 1), (0.13384827648514155, 2), (0.26614370952104333, 1), (0.92369390213547209, 1), (0.13384827648514139, 2), (0.28932011218831144, 1), (0.49938945929142603, 0), (0.59938221336559794, 2), (0.52241357218110551, 1), (0.0, 0), (0.6268874037473392, 1), (0.2423357408873017, 1), (0.21190004208196248, 1), (0.36826991842334861, 1), (0.44566471801492796, 2), (0.26120678609055248, 1), (0.289320112188311, 1), (0.23828772641934284, 2), (0.25784135710292666, 2), (0.36826991842334872, 1), (0.38960399672809592, 1), (0.33855206624271289, 2), (0.59010483306240835, 0), (0.12116787044365074, 2), (0.42799855443687962, 2), (0.47840462154485358, 1), (0.68131536426436445, 1), (0.3896039967280957, 1), (0.45051897803340757, 1), (0.46713195109888167, 1), (0.40578926484758288, 1), (0.35010256605845352, 1), (0.23828772641934282, 2), (0.21190004208196336, 2), (0.6092916161842119, 1), (0.54430205734615666, 1), (0.23828772641934282, 2), (0.13147297001937375, 2), (0.35384852231438918, 2), (0.528957444244464, 1), (0.35010256605845369, 1), (0.29823914283320729, 2), (0.42252028579477646, 1), (0.51381885899345059, 1), (0.36792469846537673, 2), (0.23828772641934293, 1), (0.37063398722002838, 1), (0.44648774233009458, 1), (0.31376577268122147, 1), (0.48173719410069005, 1), (0.33986416679829179, 2), (0.26732507063489042, 1), (0.40154482945542352, 1), (0.31343889674799436, 1), (0.40578926484758265, 1), (0.5303724744960332, 1), (0.35742283894598115, 1), (1.4010369248354526, 2), (0.2963612422755999, 1), (0.31376577268122147, 1), (0.0, 2), (0.18761797079106809, 1), (0.56531367649989905, 1), (0.0, 3), (0.32447906699045787, 2), (0.39832456620293749, 1), (0.42592782365814569, 1), (0.46713195109888161, 1), (0.0, 2), (0.36440745563066157, 1), (0.27215102867307828, 2), (0.26769655297028194, 1), (0.31376577268122174, 1), (0.3398641667982924, 1), (0.26732507063488969, 1), (0.39604855814905437, 1), (0.60346715215106572, 1), (0.24233574088730275, 1), (0.37748366665299832, 0), (0.20924872147659285, 1), (0.29636124227560084, 2), (0.3119813451338001, 1), (0.78632307583884631, 1), (0.60068964798017865, 2), (0.35485434750748096, 1), (0.42880555977475088, 1)]\n"
     ]
    },
    {
     "data": {
      "text/plain": [
       "{0: [10, 43, 112, 40, 56],\n",
       " 1: [25,\n",
       "  118,\n",
       "  34,\n",
       "  108,\n",
       "  20,\n",
       "  36,\n",
       "  95,\n",
       "  93,\n",
       "  22,\n",
       "  45,\n",
       "  65,\n",
       "  53,\n",
       "  15,\n",
       "  47,\n",
       "  86,\n",
       "  90,\n",
       "  79,\n",
       "  39,\n",
       "  111,\n",
       "  92,\n",
       "  18,\n",
       "  2,\n",
       "  12,\n",
       "  105,\n",
       "  115,\n",
       "  82,\n",
       "  80,\n",
       "  16,\n",
       "  54,\n",
       "  109,\n",
       "  17,\n",
       "  87,\n",
       "  107,\n",
       "  88,\n",
       "  76,\n",
       "  85,\n",
       "  61,\n",
       "  103,\n",
       "  100,\n",
       "  119,\n",
       "  6,\n",
       "  81,\n",
       "  30,\n",
       "  50,\n",
       "  62,\n",
       "  63,\n",
       "  83,\n",
       "  5,\n",
       "  77,\n",
       "  74,\n",
       "  46,\n",
       "  42,\n",
       "  113,\n",
       "  59,\n",
       "  73,\n",
       "  89,\n",
       "  96,\n",
       "  106,\n",
       "  101,\n",
       "  24,\n",
       "  21,\n",
       "  64,\n",
       "  69,\n",
       "  11,\n",
       "  110,\n",
       "  68,\n",
       "  44,\n",
       "  60,\n",
       "  99,\n",
       "  49,\n",
       "  116,\n",
       "  19,\n",
       "  37],\n",
       " 2: [94,\n",
       "  14,\n",
       "  84,\n",
       "  28,\n",
       "  98,\n",
       "  8,\n",
       "  23,\n",
       "  71,\n",
       "  27,\n",
       "  7,\n",
       "  26,\n",
       "  35,\n",
       "  57,\n",
       "  51,\n",
       "  3,\n",
       "  31,\n",
       "  52,\n",
       "  114,\n",
       "  75,\n",
       "  55,\n",
       "  102,\n",
       "  104,\n",
       "  32,\n",
       "  78,\n",
       "  38,\n",
       "  70,\n",
       "  4,\n",
       "  72,\n",
       "  67,\n",
       "  66,\n",
       "  58,\n",
       "  48,\n",
       "  13,\n",
       "  33,\n",
       "  0,\n",
       "  117,\n",
       "  41,\n",
       "  9,\n",
       "  1,\n",
       "  91],\n",
       " 3: [97],\n",
       " 4: [29]}"
      ]
     },
     "execution_count": 95,
     "metadata": {},
     "output_type": "execute_result"
    }
   ],
   "source": [
    "contagion(x_train, num_centers = 5, distance_func = Euclidean_distance)"
   ]
  },
  {
   "cell_type": "code",
   "execution_count": 8,
   "metadata": {
    "collapsed": false
   },
   "outputs": [
    {
     "name": "stdout",
     "output_type": "stream",
     "text": [
      "[59 94 50 15 77]\n"
     ]
    }
   ],
   "source": [
    "# Smart initialization\n",
    "# Visualize the clusters\n",
    "# Compare to kmeans\n",
    "# Writeup in sharable PDF / notebook"
   ]
  },
  {
   "cell_type": "code",
   "execution_count": 41,
   "metadata": {
    "collapsed": true
   },
   "outputs": [],
   "source": []
  },
  {
   "cell_type": "code",
   "execution_count": 42,
   "metadata": {
    "collapsed": false
   },
   "outputs": [
    {
     "name": "stdout",
     "output_type": "stream",
     "text": [
      "2\n"
     ]
    }
   ],
   "source": []
  },
  {
   "cell_type": "code",
   "execution_count": null,
   "metadata": {
    "collapsed": true
   },
   "outputs": [],
   "source": []
  }
 ],
 "metadata": {
  "kernelspec": {
   "display_name": "Python 2",
   "language": "python",
   "name": "python2"
  },
  "language_info": {
   "codemirror_mode": {
    "name": "ipython",
    "version": 2
   },
   "file_extension": ".py",
   "mimetype": "text/x-python",
   "name": "python",
   "nbconvert_exporter": "python",
   "pygments_lexer": "ipython2",
   "version": "2.7.13"
  }
 },
 "nbformat": 4,
 "nbformat_minor": 2
}
